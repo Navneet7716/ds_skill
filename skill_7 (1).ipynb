{
  "nbformat": 4,
  "nbformat_minor": 0,
  "metadata": {
    "colab": {
      "name": "skill-7.ipynb",
      "provenance": [],
      "collapsed_sections": []
    },
    "kernelspec": {
      "name": "python3",
      "display_name": "Python 3"
    }
  },
  "cells": [
    {
      "cell_type": "code",
      "metadata": {
        "id": "kVrjeKFTcUJO"
      },
      "source": [
        "# NAME - NAVNEET KUMAR SINGH\r\n",
        "# ID - 190031177\r\n",
        "# SEC - 10B\r\n",
        "# SKILLING - 7 \r\n",
        "\r\n",
        "\r\n",
        "\r\n",
        "import pandas as pd\r\n",
        "import numpy as n\r\n",
        "import matplotlib.pyplot as plt\r\n",
        "from IPython.display import Image"
      ],
      "execution_count": null,
      "outputs": []
    },
    {
      "cell_type": "code",
      "metadata": {
        "id": "-S8hFV2zctUH"
      },
      "source": [
        "list_1 = pd.read_csv(\"skill-7-q1.csv\")"
      ],
      "execution_count": null,
      "outputs": []
    },
    {
      "cell_type": "code",
      "metadata": {
        "colab": {
          "base_uri": "https://localhost:8080/",
          "height": 343
        },
        "id": "hTDOqduUf2Ti",
        "outputId": "c0b689b5-06f6-4aa1-d3ae-6399f6de9ea2"
      },
      "source": [
        "list_1"
      ],
      "execution_count": null,
      "outputs": [
        {
          "output_type": "execute_result",
          "data": {
            "text/html": [
              "<div>\n",
              "<style scoped>\n",
              "    .dataframe tbody tr th:only-of-type {\n",
              "        vertical-align: middle;\n",
              "    }\n",
              "\n",
              "    .dataframe tbody tr th {\n",
              "        vertical-align: top;\n",
              "    }\n",
              "\n",
              "    .dataframe thead th {\n",
              "        text-align: right;\n",
              "    }\n",
              "</style>\n",
              "<table border=\"1\" class=\"dataframe\">\n",
              "  <thead>\n",
              "    <tr style=\"text-align: right;\">\n",
              "      <th></th>\n",
              "      <th>Sl. No</th>\n",
              "      <th>Name</th>\n",
              "      <th>SSN NO</th>\n",
              "      <th>Country</th>\n",
              "      <th>Bodytemp_usa</th>\n",
              "      <th>Height_usa</th>\n",
              "    </tr>\n",
              "  </thead>\n",
              "  <tbody>\n",
              "    <tr>\n",
              "      <th>0</th>\n",
              "      <td>1</td>\n",
              "      <td>x</td>\n",
              "      <td>12us01</td>\n",
              "      <td>USA</td>\n",
              "      <td>97.2</td>\n",
              "      <td>6.40</td>\n",
              "    </tr>\n",
              "    <tr>\n",
              "      <th>1</th>\n",
              "      <td>2</td>\n",
              "      <td>y</td>\n",
              "      <td>12us02</td>\n",
              "      <td>USA</td>\n",
              "      <td>97.4</td>\n",
              "      <td>6.50</td>\n",
              "    </tr>\n",
              "    <tr>\n",
              "      <th>2</th>\n",
              "      <td>3</td>\n",
              "      <td>z</td>\n",
              "      <td>12us03</td>\n",
              "      <td>USA</td>\n",
              "      <td>98.5</td>\n",
              "      <td>6.20</td>\n",
              "    </tr>\n",
              "    <tr>\n",
              "      <th>3</th>\n",
              "      <td>4</td>\n",
              "      <td>p</td>\n",
              "      <td>12us04</td>\n",
              "      <td>USA</td>\n",
              "      <td>98.6</td>\n",
              "      <td>5.90</td>\n",
              "    </tr>\n",
              "    <tr>\n",
              "      <th>4</th>\n",
              "      <td>5</td>\n",
              "      <td>q</td>\n",
              "      <td>12us05</td>\n",
              "      <td>USA</td>\n",
              "      <td>97.8</td>\n",
              "      <td>5.80</td>\n",
              "    </tr>\n",
              "    <tr>\n",
              "      <th>5</th>\n",
              "      <td>6</td>\n",
              "      <td>r</td>\n",
              "      <td>12us06</td>\n",
              "      <td>USA</td>\n",
              "      <td>97.6</td>\n",
              "      <td>5.11</td>\n",
              "    </tr>\n",
              "    <tr>\n",
              "      <th>6</th>\n",
              "      <td>7</td>\n",
              "      <td>s</td>\n",
              "      <td>12us07</td>\n",
              "      <td>USA</td>\n",
              "      <td>98.6</td>\n",
              "      <td>6.30</td>\n",
              "    </tr>\n",
              "    <tr>\n",
              "      <th>7</th>\n",
              "      <td>8</td>\n",
              "      <td>t</td>\n",
              "      <td>12us08</td>\n",
              "      <td>USA</td>\n",
              "      <td>98.9</td>\n",
              "      <td>6.50</td>\n",
              "    </tr>\n",
              "    <tr>\n",
              "      <th>8</th>\n",
              "      <td>9</td>\n",
              "      <td>u</td>\n",
              "      <td>12us09</td>\n",
              "      <td>USA</td>\n",
              "      <td>99.2</td>\n",
              "      <td>6.70</td>\n",
              "    </tr>\n",
              "    <tr>\n",
              "      <th>9</th>\n",
              "      <td>10</td>\n",
              "      <td>v</td>\n",
              "      <td>12us10</td>\n",
              "      <td>USA</td>\n",
              "      <td>99.2</td>\n",
              "      <td>6.60</td>\n",
              "    </tr>\n",
              "  </tbody>\n",
              "</table>\n",
              "</div>"
            ],
            "text/plain": [
              "   Sl. No Name  SSN NO Country  Bodytemp_usa  Height_usa\n",
              "0       1    x  12us01     USA          97.2        6.40\n",
              "1       2    y  12us02     USA          97.4        6.50\n",
              "2       3    z  12us03     USA          98.5        6.20\n",
              "3       4    p  12us04     USA          98.6        5.90\n",
              "4       5    q  12us05     USA          97.8        5.80\n",
              "5       6    r  12us06     USA          97.6        5.11\n",
              "6       7    s  12us07     USA          98.6        6.30\n",
              "7       8    t  12us08     USA          98.9        6.50\n",
              "8       9    u  12us09     USA          99.2        6.70\n",
              "9      10    v  12us10     USA          99.2        6.60"
            ]
          },
          "metadata": {
            "tags": []
          },
          "execution_count": 16
        }
      ]
    },
    {
      "cell_type": "code",
      "metadata": {
        "colab": {
          "base_uri": "https://localhost:8080/"
        },
        "id": "JNI9pPSNgass",
        "outputId": "4b82bbf2-8f87-44a1-9563-dff2f639563b"
      },
      "source": [
        "print(list_1.Bodytemp_usa.cov(list_1.Height_usa))"
      ],
      "execution_count": null,
      "outputs": [
        {
          "output_type": "stream",
          "text": [
            "0.1558888888888905\n"
          ],
          "name": "stdout"
        }
      ]
    },
    {
      "cell_type": "code",
      "metadata": {
        "id": "yyLKR9Plg6tq"
      },
      "source": [
        "list_2 = pd.read_csv(\"skill-7-q2.csv\")"
      ],
      "execution_count": null,
      "outputs": []
    },
    {
      "cell_type": "code",
      "metadata": {
        "colab": {
          "base_uri": "https://localhost:8080/",
          "height": 343
        },
        "id": "jvszzDyJh-KH",
        "outputId": "93a85439-dee1-4043-c549-da14125cf9b0"
      },
      "source": [
        "list_2"
      ],
      "execution_count": null,
      "outputs": [
        {
          "output_type": "execute_result",
          "data": {
            "text/html": [
              "<div>\n",
              "<style scoped>\n",
              "    .dataframe tbody tr th:only-of-type {\n",
              "        vertical-align: middle;\n",
              "    }\n",
              "\n",
              "    .dataframe tbody tr th {\n",
              "        vertical-align: top;\n",
              "    }\n",
              "\n",
              "    .dataframe thead th {\n",
              "        text-align: right;\n",
              "    }\n",
              "</style>\n",
              "<table border=\"1\" class=\"dataframe\">\n",
              "  <thead>\n",
              "    <tr style=\"text-align: right;\">\n",
              "      <th></th>\n",
              "      <th>Sl. No</th>\n",
              "      <th>Name</th>\n",
              "      <th>SSN NO</th>\n",
              "      <th>Country</th>\n",
              "      <th>Bodytemp_india</th>\n",
              "      <th>Height_ind</th>\n",
              "    </tr>\n",
              "  </thead>\n",
              "  <tbody>\n",
              "    <tr>\n",
              "      <th>0</th>\n",
              "      <td>1</td>\n",
              "      <td>A</td>\n",
              "      <td>15ind01</td>\n",
              "      <td>IND</td>\n",
              "      <td>98.4</td>\n",
              "      <td>5.8</td>\n",
              "    </tr>\n",
              "    <tr>\n",
              "      <th>1</th>\n",
              "      <td>2</td>\n",
              "      <td>B</td>\n",
              "      <td>15ind02</td>\n",
              "      <td>IND</td>\n",
              "      <td>98.4</td>\n",
              "      <td>5.7</td>\n",
              "    </tr>\n",
              "    <tr>\n",
              "      <th>2</th>\n",
              "      <td>3</td>\n",
              "      <td>C</td>\n",
              "      <td>15ind03</td>\n",
              "      <td>IND</td>\n",
              "      <td>97.8</td>\n",
              "      <td>5.5</td>\n",
              "    </tr>\n",
              "    <tr>\n",
              "      <th>3</th>\n",
              "      <td>4</td>\n",
              "      <td>D</td>\n",
              "      <td>15ind04</td>\n",
              "      <td>IND</td>\n",
              "      <td>98.6</td>\n",
              "      <td>5.4</td>\n",
              "    </tr>\n",
              "    <tr>\n",
              "      <th>4</th>\n",
              "      <td>5</td>\n",
              "      <td>E</td>\n",
              "      <td>15ind05</td>\n",
              "      <td>IND</td>\n",
              "      <td>97.8</td>\n",
              "      <td>5.6</td>\n",
              "    </tr>\n",
              "    <tr>\n",
              "      <th>5</th>\n",
              "      <td>6</td>\n",
              "      <td>F</td>\n",
              "      <td>15ind06</td>\n",
              "      <td>IND</td>\n",
              "      <td>98.6</td>\n",
              "      <td>6.2</td>\n",
              "    </tr>\n",
              "    <tr>\n",
              "      <th>6</th>\n",
              "      <td>7</td>\n",
              "      <td>G</td>\n",
              "      <td>15ind07</td>\n",
              "      <td>IND</td>\n",
              "      <td>98.6</td>\n",
              "      <td>6.1</td>\n",
              "    </tr>\n",
              "    <tr>\n",
              "      <th>7</th>\n",
              "      <td>8</td>\n",
              "      <td>H</td>\n",
              "      <td>15ind08</td>\n",
              "      <td>IND</td>\n",
              "      <td>98.8</td>\n",
              "      <td>5.1</td>\n",
              "    </tr>\n",
              "    <tr>\n",
              "      <th>8</th>\n",
              "      <td>9</td>\n",
              "      <td>I</td>\n",
              "      <td>15ind09</td>\n",
              "      <td>IND</td>\n",
              "      <td>99.6</td>\n",
              "      <td>5.6</td>\n",
              "    </tr>\n",
              "    <tr>\n",
              "      <th>9</th>\n",
              "      <td>10</td>\n",
              "      <td>J</td>\n",
              "      <td>15ind10</td>\n",
              "      <td>IND</td>\n",
              "      <td>98.8</td>\n",
              "      <td>5.4</td>\n",
              "    </tr>\n",
              "  </tbody>\n",
              "</table>\n",
              "</div>"
            ],
            "text/plain": [
              "   Sl. No Name   SSN NO Country  Bodytemp_india  Height_ind\n",
              "0       1    A  15ind01     IND            98.4         5.8\n",
              "1       2    B  15ind02     IND            98.4         5.7\n",
              "2       3    C  15ind03     IND            97.8         5.5\n",
              "3       4    D  15ind04     IND            98.6         5.4\n",
              "4       5    E  15ind05     IND            97.8         5.6\n",
              "5       6    F  15ind06     IND            98.6         6.2\n",
              "6       7    G  15ind07     IND            98.6         6.1\n",
              "7       8    H  15ind08     IND            98.8         5.1\n",
              "8       9    I  15ind09     IND            99.6         5.6\n",
              "9      10    J  15ind10     IND            98.8         5.4"
            ]
          },
          "metadata": {
            "tags": []
          },
          "execution_count": 19
        }
      ]
    },
    {
      "cell_type": "code",
      "metadata": {
        "colab": {
          "base_uri": "https://localhost:8080/"
        },
        "id": "9mE0Kfubh_G9",
        "outputId": "7c6ab0f5-64f5-4a06-f60b-f6863423c377"
      },
      "source": [
        "print(list_1.loc[:,\"Bodytemp_usa\"].var())"
      ],
      "execution_count": null,
      "outputs": [
        {
          "output_type": "stream",
          "text": [
            "0.5511111111111116\n"
          ],
          "name": "stdout"
        }
      ]
    },
    {
      "cell_type": "code",
      "metadata": {
        "colab": {
          "base_uri": "https://localhost:8080/"
        },
        "id": "3CFgNp4yiPEK",
        "outputId": "d3c935c8-7d11-4baf-ff02-792717929685"
      },
      "source": [
        "print(list_1.loc[:,\"Height_usa\"].var())"
      ],
      "execution_count": null,
      "outputs": [
        {
          "output_type": "stream",
          "text": [
            "0.2308988888888888\n"
          ],
          "name": "stdout"
        }
      ]
    },
    {
      "cell_type": "code",
      "metadata": {
        "colab": {
          "base_uri": "https://localhost:8080/"
        },
        "id": "jdBcjse8ijFV",
        "outputId": "a7700899-e92f-43e4-a62d-88cc5e579a17"
      },
      "source": [
        "print(list_1.loc[:,\"Bodytemp_usa\"].var() + list_1.Bodytemp_usa.cov(list_1.Height_usa) + list_1.loc[:,\"Height_usa\"].var())"
      ],
      "execution_count": null,
      "outputs": [
        {
          "output_type": "stream",
          "text": [
            "0.9378988888888908\n"
          ],
          "name": "stdout"
        }
      ]
    },
    {
      "cell_type": "code",
      "metadata": {
        "colab": {
          "base_uri": "https://localhost:8080/"
        },
        "id": "QA4q6mygjKte",
        "outputId": "2721d0d4-8948-44f0-fc95-6fe0e7c45ea2"
      },
      "source": [
        "print(list_2.loc[:,\"Bodytemp_india\"].var())"
      ],
      "execution_count": null,
      "outputs": [
        {
          "output_type": "stream",
          "text": [
            "0.26711111111110974\n"
          ],
          "name": "stdout"
        }
      ]
    },
    {
      "cell_type": "code",
      "metadata": {
        "colab": {
          "base_uri": "https://localhost:8080/"
        },
        "id": "ndx_oINNjVL4",
        "outputId": "83ed73da-83ac-4d10-df6c-3dddfe630fa4"
      },
      "source": [
        "print(list_2.loc[:,\"Height_ind\"].var())"
      ],
      "execution_count": null,
      "outputs": [
        {
          "output_type": "stream",
          "text": [
            "0.10933333333333334\n"
          ],
          "name": "stdout"
        }
      ]
    },
    {
      "cell_type": "code",
      "metadata": {
        "colab": {
          "base_uri": "https://localhost:8080/"
        },
        "id": "gIgZasUGjap4",
        "outputId": "09e80132-709b-458b-b6b1-1a126580973e"
      },
      "source": [
        "print(list_1.Bodytemp_usa.cov(list_2.Bodytemp_india))"
      ],
      "execution_count": null,
      "outputs": [
        {
          "output_type": "stream",
          "text": [
            "0.20444444444444287\n"
          ],
          "name": "stdout"
        }
      ]
    },
    {
      "cell_type": "code",
      "metadata": {
        "colab": {
          "base_uri": "https://localhost:8080/"
        },
        "id": "B7YXLpdTjkD5",
        "outputId": "93190ade-dddf-4d9f-8ed7-3a98dc3ecb1d"
      },
      "source": [
        "print(\"Sum of variance of Body Temp in india & usa: \", list_1.loc[:,\"Bodytemp_usa\"].var() + list_2.loc[:,\"Bodytemp_india\"].var())"
      ],
      "execution_count": null,
      "outputs": [
        {
          "output_type": "stream",
          "text": [
            "Sum of variance of Body Temp in india & usa:  0.8182222222222213\n"
          ],
          "name": "stdout"
        }
      ]
    },
    {
      "cell_type": "code",
      "metadata": {
        "colab": {
          "base_uri": "https://localhost:8080/"
        },
        "id": "XSOoChdEkWCO",
        "outputId": "9f8997f9-04ab-4888-8a9d-5caebdc9d7f2"
      },
      "source": [
        "total_count = n.count_nonzero(list_1.Bodytemp_usa)\r\n",
        "print(total_count)"
      ],
      "execution_count": null,
      "outputs": [
        {
          "output_type": "stream",
          "text": [
            "10\n"
          ],
          "name": "stdout"
        }
      ]
    },
    {
      "cell_type": "code",
      "metadata": {
        "colab": {
          "base_uri": "https://localhost:8080/"
        },
        "id": "LBNq6f8bkj_y",
        "outputId": "b4be45c1-3763-44c6-ae3c-b64e59913438"
      },
      "source": [
        "temp = list_1.Bodytemp_usa.unique()\r\n",
        "print(temp)"
      ],
      "execution_count": null,
      "outputs": [
        {
          "output_type": "stream",
          "text": [
            "[97.2 97.4 98.5 98.6 97.8 97.6 98.9 99.2]\n"
          ],
          "name": "stdout"
        }
      ]
    },
    {
      "cell_type": "code",
      "metadata": {
        "colab": {
          "base_uri": "https://localhost:8080/"
        },
        "id": "hZC5GKBrkqoZ",
        "outputId": "36f6bfd6-7e85-40f5-9dc6-72f169b7adc0"
      },
      "source": [
        "frequency = []\r\n",
        "probability = []\r\n",
        "count = 0\r\n",
        "for i in temp:\r\n",
        "  for j in list_1['Bodytemp_usa']:\r\n",
        "    if i == j:\r\n",
        "      count += 1\r\n",
        "  frequency.append(count)\r\n",
        "  probability.append(count/total_count)\r\n",
        "  count = 0\r\n",
        "\r\n",
        "print(frequency)\r\n",
        "print(probability)"
      ],
      "execution_count": null,
      "outputs": [
        {
          "output_type": "stream",
          "text": [
            "[1, 1, 1, 2, 1, 1, 1, 2]\n",
            "[0.1, 0.1, 0.1, 0.2, 0.1, 0.1, 0.1, 0.2]\n"
          ],
          "name": "stdout"
        }
      ]
    },
    {
      "cell_type": "code",
      "metadata": {
        "id": "dxZgdBwilNZK"
      },
      "source": [
        "list_3 = pd.DataFrame(\r\n",
        "    {'temp-usa': temp,\r\n",
        "     'Frequency': frequency,\r\n",
        "     'probability': probability}\r\n",
        ")"
      ],
      "execution_count": null,
      "outputs": []
    },
    {
      "cell_type": "code",
      "metadata": {
        "colab": {
          "base_uri": "https://localhost:8080/",
          "height": 284
        },
        "id": "LHNftbt6ljf9",
        "outputId": "cae60962-dd78-49fd-b7ed-48ed08ebd1b5"
      },
      "source": [
        "list_3"
      ],
      "execution_count": null,
      "outputs": [
        {
          "output_type": "execute_result",
          "data": {
            "text/html": [
              "<div>\n",
              "<style scoped>\n",
              "    .dataframe tbody tr th:only-of-type {\n",
              "        vertical-align: middle;\n",
              "    }\n",
              "\n",
              "    .dataframe tbody tr th {\n",
              "        vertical-align: top;\n",
              "    }\n",
              "\n",
              "    .dataframe thead th {\n",
              "        text-align: right;\n",
              "    }\n",
              "</style>\n",
              "<table border=\"1\" class=\"dataframe\">\n",
              "  <thead>\n",
              "    <tr style=\"text-align: right;\">\n",
              "      <th></th>\n",
              "      <th>temp-usa</th>\n",
              "      <th>Frequency</th>\n",
              "      <th>probability</th>\n",
              "    </tr>\n",
              "  </thead>\n",
              "  <tbody>\n",
              "    <tr>\n",
              "      <th>0</th>\n",
              "      <td>97.2</td>\n",
              "      <td>1</td>\n",
              "      <td>0.1</td>\n",
              "    </tr>\n",
              "    <tr>\n",
              "      <th>1</th>\n",
              "      <td>97.4</td>\n",
              "      <td>1</td>\n",
              "      <td>0.1</td>\n",
              "    </tr>\n",
              "    <tr>\n",
              "      <th>2</th>\n",
              "      <td>98.5</td>\n",
              "      <td>1</td>\n",
              "      <td>0.1</td>\n",
              "    </tr>\n",
              "    <tr>\n",
              "      <th>3</th>\n",
              "      <td>98.6</td>\n",
              "      <td>2</td>\n",
              "      <td>0.2</td>\n",
              "    </tr>\n",
              "    <tr>\n",
              "      <th>4</th>\n",
              "      <td>97.8</td>\n",
              "      <td>1</td>\n",
              "      <td>0.1</td>\n",
              "    </tr>\n",
              "    <tr>\n",
              "      <th>5</th>\n",
              "      <td>97.6</td>\n",
              "      <td>1</td>\n",
              "      <td>0.1</td>\n",
              "    </tr>\n",
              "    <tr>\n",
              "      <th>6</th>\n",
              "      <td>98.9</td>\n",
              "      <td>1</td>\n",
              "      <td>0.1</td>\n",
              "    </tr>\n",
              "    <tr>\n",
              "      <th>7</th>\n",
              "      <td>99.2</td>\n",
              "      <td>2</td>\n",
              "      <td>0.2</td>\n",
              "    </tr>\n",
              "  </tbody>\n",
              "</table>\n",
              "</div>"
            ],
            "text/plain": [
              "   temp-usa  Frequency  probability\n",
              "0      97.2          1          0.1\n",
              "1      97.4          1          0.1\n",
              "2      98.5          1          0.1\n",
              "3      98.6          2          0.2\n",
              "4      97.8          1          0.1\n",
              "5      97.6          1          0.1\n",
              "6      98.9          1          0.1\n",
              "7      99.2          2          0.2"
            ]
          },
          "metadata": {
            "tags": []
          },
          "execution_count": 34
        }
      ]
    },
    {
      "cell_type": "code",
      "metadata": {
        "colab": {
          "base_uri": "https://localhost:8080/"
        },
        "id": "JZhjG6rblknm",
        "outputId": "13ee502a-b00f-45b7-a971-85968b2db3c9"
      },
      "source": [
        "expect_value = 0 \r\n",
        "i=0\r\n",
        "for value in temp:\r\n",
        "  expect_value = expect_value + (value * probability[i])\r\n",
        "  i += 1\r\n",
        "\r\n",
        "print('Expected value = ', expect_value)"
      ],
      "execution_count": null,
      "outputs": [
        {
          "output_type": "stream",
          "text": [
            "Expected value =  98.30000000000001\n"
          ],
          "name": "stdout"
        }
      ]
    },
    {
      "cell_type": "code",
      "metadata": {
        "id": "np5w2D3al9lh"
      },
      "source": [
        "list_4 = pd.read_csv(\"IRIS.csv\")"
      ],
      "execution_count": null,
      "outputs": []
    },
    {
      "cell_type": "code",
      "metadata": {
        "colab": {
          "base_uri": "https://localhost:8080/",
          "height": 402
        },
        "id": "OdVuqQdxmT00",
        "outputId": "247c257d-7936-4fa7-c554-fbf1807fab84"
      },
      "source": [
        "list_4"
      ],
      "execution_count": null,
      "outputs": [
        {
          "output_type": "execute_result",
          "data": {
            "text/html": [
              "<div>\n",
              "<style scoped>\n",
              "    .dataframe tbody tr th:only-of-type {\n",
              "        vertical-align: middle;\n",
              "    }\n",
              "\n",
              "    .dataframe tbody tr th {\n",
              "        vertical-align: top;\n",
              "    }\n",
              "\n",
              "    .dataframe thead th {\n",
              "        text-align: right;\n",
              "    }\n",
              "</style>\n",
              "<table border=\"1\" class=\"dataframe\">\n",
              "  <thead>\n",
              "    <tr style=\"text-align: right;\">\n",
              "      <th></th>\n",
              "      <th>sepal_length</th>\n",
              "      <th>sepal_width</th>\n",
              "      <th>petal_length</th>\n",
              "      <th>petal_width</th>\n",
              "      <th>species</th>\n",
              "    </tr>\n",
              "  </thead>\n",
              "  <tbody>\n",
              "    <tr>\n",
              "      <th>0</th>\n",
              "      <td>5.1</td>\n",
              "      <td>3.5</td>\n",
              "      <td>1.4</td>\n",
              "      <td>0.2</td>\n",
              "      <td>Iris-setosa</td>\n",
              "    </tr>\n",
              "    <tr>\n",
              "      <th>1</th>\n",
              "      <td>4.9</td>\n",
              "      <td>3.0</td>\n",
              "      <td>1.4</td>\n",
              "      <td>0.2</td>\n",
              "      <td>Iris-setosa</td>\n",
              "    </tr>\n",
              "    <tr>\n",
              "      <th>2</th>\n",
              "      <td>4.7</td>\n",
              "      <td>3.2</td>\n",
              "      <td>1.3</td>\n",
              "      <td>0.2</td>\n",
              "      <td>Iris-setosa</td>\n",
              "    </tr>\n",
              "    <tr>\n",
              "      <th>3</th>\n",
              "      <td>4.6</td>\n",
              "      <td>3.1</td>\n",
              "      <td>1.5</td>\n",
              "      <td>0.2</td>\n",
              "      <td>Iris-setosa</td>\n",
              "    </tr>\n",
              "    <tr>\n",
              "      <th>4</th>\n",
              "      <td>5.0</td>\n",
              "      <td>3.6</td>\n",
              "      <td>1.4</td>\n",
              "      <td>0.2</td>\n",
              "      <td>Iris-setosa</td>\n",
              "    </tr>\n",
              "    <tr>\n",
              "      <th>...</th>\n",
              "      <td>...</td>\n",
              "      <td>...</td>\n",
              "      <td>...</td>\n",
              "      <td>...</td>\n",
              "      <td>...</td>\n",
              "    </tr>\n",
              "    <tr>\n",
              "      <th>145</th>\n",
              "      <td>6.7</td>\n",
              "      <td>3.0</td>\n",
              "      <td>5.2</td>\n",
              "      <td>2.3</td>\n",
              "      <td>Iris-virginica</td>\n",
              "    </tr>\n",
              "    <tr>\n",
              "      <th>146</th>\n",
              "      <td>6.3</td>\n",
              "      <td>2.5</td>\n",
              "      <td>5.0</td>\n",
              "      <td>1.9</td>\n",
              "      <td>Iris-virginica</td>\n",
              "    </tr>\n",
              "    <tr>\n",
              "      <th>147</th>\n",
              "      <td>6.5</td>\n",
              "      <td>3.0</td>\n",
              "      <td>5.2</td>\n",
              "      <td>2.0</td>\n",
              "      <td>Iris-virginica</td>\n",
              "    </tr>\n",
              "    <tr>\n",
              "      <th>148</th>\n",
              "      <td>6.2</td>\n",
              "      <td>3.4</td>\n",
              "      <td>5.4</td>\n",
              "      <td>2.3</td>\n",
              "      <td>Iris-virginica</td>\n",
              "    </tr>\n",
              "    <tr>\n",
              "      <th>149</th>\n",
              "      <td>5.9</td>\n",
              "      <td>3.0</td>\n",
              "      <td>5.1</td>\n",
              "      <td>1.8</td>\n",
              "      <td>Iris-virginica</td>\n",
              "    </tr>\n",
              "  </tbody>\n",
              "</table>\n",
              "<p>150 rows × 5 columns</p>\n",
              "</div>"
            ],
            "text/plain": [
              "     sepal_length  sepal_width  petal_length  petal_width         species\n",
              "0             5.1          3.5           1.4          0.2     Iris-setosa\n",
              "1             4.9          3.0           1.4          0.2     Iris-setosa\n",
              "2             4.7          3.2           1.3          0.2     Iris-setosa\n",
              "3             4.6          3.1           1.5          0.2     Iris-setosa\n",
              "4             5.0          3.6           1.4          0.2     Iris-setosa\n",
              "..            ...          ...           ...          ...             ...\n",
              "145           6.7          3.0           5.2          2.3  Iris-virginica\n",
              "146           6.3          2.5           5.0          1.9  Iris-virginica\n",
              "147           6.5          3.0           5.2          2.0  Iris-virginica\n",
              "148           6.2          3.4           5.4          2.3  Iris-virginica\n",
              "149           5.9          3.0           5.1          1.8  Iris-virginica\n",
              "\n",
              "[150 rows x 5 columns]"
            ]
          },
          "metadata": {
            "tags": []
          },
          "execution_count": 38
        }
      ]
    },
    {
      "cell_type": "code",
      "metadata": {
        "colab": {
          "base_uri": "https://localhost:8080/"
        },
        "id": "gt3GlhvlmVLP",
        "outputId": "d1fc0e37-506f-4b05-a876-16d07d2e1a58"
      },
      "source": [
        "print(list_4.loc[:,\"sepal_length\"].var())"
      ],
      "execution_count": null,
      "outputs": [
        {
          "output_type": "stream",
          "text": [
            "0.6856935123042505\n"
          ],
          "name": "stdout"
        }
      ]
    },
    {
      "cell_type": "code",
      "metadata": {
        "colab": {
          "base_uri": "https://localhost:8080/"
        },
        "id": "s-77cDkmme24",
        "outputId": "762d4934-d102-4658-86d3-7e9a510a6bc2"
      },
      "source": [
        "print(list_4.loc[:,\"sepal_width\"].var())"
      ],
      "execution_count": null,
      "outputs": [
        {
          "output_type": "stream",
          "text": [
            "0.18800402684563763\n"
          ],
          "name": "stdout"
        }
      ]
    },
    {
      "cell_type": "code",
      "metadata": {
        "colab": {
          "base_uri": "https://localhost:8080/"
        },
        "id": "EAjKw8LkmjUN",
        "outputId": "77e90173-e215-4c20-80cc-6b51f1cc85e4"
      },
      "source": [
        "print(\"sum of SepalLengthCm and SepalLengthCm: \", list_4.loc[:,\"sepal_width\"].var() + list_4.loc[:,\"sepal_length\"].var())"
      ],
      "execution_count": null,
      "outputs": [
        {
          "output_type": "stream",
          "text": [
            "sum of SepalLengthCm and SepalLengthCm:  0.8736975391498881\n"
          ],
          "name": "stdout"
        }
      ]
    },
    {
      "cell_type": "code",
      "metadata": {
        "id": "k8pSDYYumw2N"
      },
      "source": [
        ""
      ],
      "execution_count": null,
      "outputs": []
    }
  ]
}