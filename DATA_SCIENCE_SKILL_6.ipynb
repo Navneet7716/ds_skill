{
  "nbformat": 4,
  "nbformat_minor": 0,
  "metadata": {
    "kernelspec": {
      "display_name": "Python 3",
      "language": "python",
      "name": "python3"
    },
    "language_info": {
      "codemirror_mode": {
        "name": "ipython",
        "version": 3
      },
      "file_extension": ".py",
      "mimetype": "text/x-python",
      "name": "python",
      "nbconvert_exporter": "python",
      "pygments_lexer": "ipython3",
      "version": "3.8.5"
    },
    "colab": {
      "name": "DATA_SCIENCE_SKILL_6.ipynb",
      "provenance": []
    }
  },
  "cells": [
    {
      "cell_type": "markdown",
      "metadata": {
        "id": "QyYRCWBgKSI_"
      },
      "source": [
        "# NAME - NAVNEET KUMAR SINGH\r\n",
        "# ID - 190031177\r\n",
        "# SEC - 10B\r\n",
        "# SKILLING - 6"
      ]
    },
    {
      "cell_type": "code",
      "metadata": {
        "id": "viCsFvRbKLXe"
      },
      "source": [
        "import numpy as np\n",
        "import pandas as pd\n",
        "import matplotlib.pyplot as plt\n",
        "import math\n",
        "import statistics as stats"
      ],
      "execution_count": null,
      "outputs": []
    },
    {
      "cell_type": "code",
      "metadata": {
        "id": "bNP7ayBBKLXg"
      },
      "source": [
        "matches = pd.read_csv(\"matches.csv\")\n",
        "deliveries = pd.read_csv(\"deliveries.csv\")"
      ],
      "execution_count": null,
      "outputs": []
    },
    {
      "cell_type": "code",
      "metadata": {
        "id": "T5mEJEJkKLXh",
        "outputId": "540d5e34-4280-44b0-c556-2d9c1128d597"
      },
      "source": [
        "def compute_binomial_probability(x,n,p):\n",
        "    outcome = math.factorial(n)/(math.factorial(x)*math.factorial(n-x))\n",
        "    prob_each_outcome = p**x*(1-p)**(n-x)\n",
        "    return outcome*prob_each_outcome\n",
        "\n",
        "\n",
        "def plot_graph(n,p):\n",
        "    \n",
        "    probability = list(map(lambda x:compute_binomial_probability(x,n,p),range(0,n+1)))\n",
        "    plt.bar(list(range(0,n+1)),probability)\n",
        "    \n",
        "    \n",
        "\n",
        "plot_graph(5,0.5)\n",
        "    "
      ],
      "execution_count": null,
      "outputs": [
        {
          "output_type": "display_data",
          "data": {
            "image/png": "[encoded data removed]",
            "text/plain": [
              "<Figure size 432x288 with 1 Axes>"
            ]
          },
          "metadata": {
            "tags": [],
            "needs_background": "light"
          }
        }
      ]
    },
    {
      "cell_type": "code",
      "metadata": {
        "id": "jGx00aHmKLXl",
        "outputId": "0895ba0b-cc4b-4d38-be1b-b352280dfebf"
      },
      "source": [
        "plot_graph(10,0.6)"
      ],
      "execution_count": null,
      "outputs": [
        {
          "output_type": "display_data",
          "data": {
            "image/png": "[encoded data removed]",
            "text/plain": [
              "<Figure size 432x288 with 1 Axes>"
            ]
          },
          "metadata": {
            "tags": [],
            "needs_background": "light"
          }
        }
      ]
    },
    {
      "cell_type": "code",
      "metadata": {
        "id": "FTsdSJu8KLXo"
      },
      "source": [
        "deliveries"
      ],
      "execution_count": null,
      "outputs": []
    },
    {
      "cell_type": "code",
      "metadata": {
        "id": "KqBR6yaZKLXp",
        "outputId": "f15a5bfb-586d-4c88-f301-2723b86e6a83"
      },
      "source": [
        "deliveries['inning'].sum()"
      ],
      "execution_count": null,
      "outputs": [
        {
          "output_type": "execute_result",
          "data": {
            "text/plain": [
              "223010"
            ]
          },
          "metadata": {
            "tags": []
          },
          "execution_count": 5
        }
      ]
    },
    {
      "cell_type": "code",
      "metadata": {
        "id": "mzxcTf8PKLXq",
        "outputId": "5fc49f8d-1cea-4e95-c846-1b773fb28cc7"
      },
      "source": [
        "plot_graph(220,0.4)"
      ],
      "execution_count": null,
      "outputs": [
        {
          "output_type": "display_data",
          "data": {
            "image/png": "[encoded data removed]",
            "text/plain": [
              "<Figure size 432x288 with 1 Axes>"
            ]
          },
          "metadata": {
            "tags": [],
            "needs_background": "light"
          }
        }
      ]
    },
    {
      "cell_type": "code",
      "metadata": {
        "id": "3lF1XHEaKLXr",
        "outputId": "06053031-71a8-450e-c686-9a3891c24141"
      },
      "source": [
        "win_by_runs_data = matches[matches.win_by_runs > 0].win_by_runs\n",
        "win_by_runs_mean, win_by_runs_std = win_by_runs_data.mean(), win_by_runs_data.std()\n",
        "z_score_35 = (35 - win_by_runs_mean) / win_by_runs_std\n",
        "print(f'z-score of 35 is {z_score_35:.2f}')"
      ],
      "execution_count": null,
      "outputs": [
        {
          "output_type": "stream",
          "text": [
            "z-score of 35 is 0.17\n"
          ],
          "name": "stdout"
        }
      ]
    },
    {
      "cell_type": "code",
      "metadata": {
        "id": "c-_h8B1ZKLXt"
      },
      "source": [
        ""
      ],
      "execution_count": null,
      "outputs": []
    },
    {
      "cell_type": "code",
      "metadata": {
        "id": "FsMWTLa-KLXt"
      },
      "source": [
        ""
      ],
      "execution_count": null,
      "outputs": []
    }
  ]
}