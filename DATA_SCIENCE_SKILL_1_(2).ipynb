{
  "nbformat": 4,
  "nbformat_minor": 0,
  "metadata": {
    "kernelspec": {
      "display_name": "Python 3",
      "language": "python",
      "name": "python3"
    },
    "language_info": {
      "codemirror_mode": {
        "name": "ipython",
        "version": 3
      },
      "file_extension": ".py",
      "mimetype": "text/x-python",
      "name": "python",
      "nbconvert_exporter": "python",
      "pygments_lexer": "ipython3",
      "version": "3.8.5"
    },
    "colab": {
      "name": "DATA_SCIENCE_SKILL_1 (2).ipynb",
      "provenance": []
    }
  },
  "cells": [
    {
      "cell_type": "markdown",
      "metadata": {
        "id": "PI9dKPCELfs1"
      },
      "source": [
        "# 190031177\n",
        "# Navneet Kumar Singh"
      ]
    },
    {
      "cell_type": "code",
      "metadata": {
        "id": "q38KZ__5LftJ"
      },
      "source": [
        "import pandas as pd\n",
        "import numpy as np"
      ],
      "execution_count": null,
      "outputs": []
    },
    {
      "cell_type": "code",
      "metadata": {
        "id": "BXSYLF5RLftL",
        "outputId": "268d3cde-e294-4a5a-ebad-15b9f9fa5410"
      },
      "source": [
        "list = ['a','b','c','d']\n",
        "series = pd.Series(list)\n",
        "print(series)"
      ],
      "execution_count": null,
      "outputs": [
        {
          "output_type": "stream",
          "text": [
            "0    a\n",
            "1    b\n",
            "2    c\n",
            "3    d\n",
            "dtype: object\n"
          ],
          "name": "stdout"
        }
      ]
    },
    {
      "cell_type": "code",
      "metadata": {
        "id": "4_HPtXmJLftO"
      },
      "source": [
        "d =['aditya','aayush','dheer','rithik','navneet'];\n",
        "m=[[21,22,23,24],[22,25,24,26],[12,22,45,65],[78,88,98,75],[45,46,78,95]]\n",
        "s=['ds','mp2','ai','PFSD']"
      ],
      "execution_count": null,
      "outputs": []
    },
    {
      "cell_type": "code",
      "metadata": {
        "id": "-BJFaBAPLftP"
      },
      "source": [
        "df = pd.DataFrame(data=m,index=d,columns=s)"
      ],
      "execution_count": null,
      "outputs": []
    },
    {
      "cell_type": "code",
      "metadata": {
        "id": "AwDDc_MfLftQ",
        "outputId": "bf756ddd-a489-416d-9859-c470589e4a1b"
      },
      "source": [
        "df"
      ],
      "execution_count": null,
      "outputs": [
        {
          "output_type": "execute_result",
          "data": {
            "text/html": [
              "<div>\n",
              "<style scoped>\n",
              "    .dataframe tbody tr th:only-of-type {\n",
              "        vertical-align: middle;\n",
              "    }\n",
              "\n",
              "    .dataframe tbody tr th {\n",
              "        vertical-align: top;\n",
              "    }\n",
              "\n",
              "    .dataframe thead th {\n",
              "        text-align: right;\n",
              "    }\n",
              "</style>\n",
              "<table border=\"1\" class=\"dataframe\">\n",
              "  <thead>\n",
              "    <tr style=\"text-align: right;\">\n",
              "      <th></th>\n",
              "      <th>ds</th>\n",
              "      <th>mp2</th>\n",
              "      <th>ai</th>\n",
              "      <th>PFSD</th>\n",
              "    </tr>\n",
              "  </thead>\n",
              "  <tbody>\n",
              "    <tr>\n",
              "      <th>aditya</th>\n",
              "      <td>21</td>\n",
              "      <td>22</td>\n",
              "      <td>23</td>\n",
              "      <td>24</td>\n",
              "    </tr>\n",
              "    <tr>\n",
              "      <th>aayush</th>\n",
              "      <td>22</td>\n",
              "      <td>25</td>\n",
              "      <td>24</td>\n",
              "      <td>26</td>\n",
              "    </tr>\n",
              "    <tr>\n",
              "      <th>dheer</th>\n",
              "      <td>12</td>\n",
              "      <td>22</td>\n",
              "      <td>45</td>\n",
              "      <td>65</td>\n",
              "    </tr>\n",
              "    <tr>\n",
              "      <th>rithik</th>\n",
              "      <td>78</td>\n",
              "      <td>88</td>\n",
              "      <td>98</td>\n",
              "      <td>75</td>\n",
              "    </tr>\n",
              "    <tr>\n",
              "      <th>navneet</th>\n",
              "      <td>45</td>\n",
              "      <td>46</td>\n",
              "      <td>78</td>\n",
              "      <td>95</td>\n",
              "    </tr>\n",
              "  </tbody>\n",
              "</table>\n",
              "</div>"
            ],
            "text/plain": [
              "         ds  mp2  ai  PFSD\n",
              "aditya   21   22  23    24\n",
              "aayush   22   25  24    26\n",
              "dheer    12   22  45    65\n",
              "rithik   78   88  98    75\n",
              "navneet  45   46  78    95"
            ]
          },
          "metadata": {
            "tags": []
          },
          "execution_count": 5
        }
      ]
    },
    {
      "cell_type": "code",
      "metadata": {
        "id": "Ol-MxcBOLftS"
      },
      "source": [
        "df['TS']=df['ds']+df['mp2']+df['ai']+df['PFSD']"
      ],
      "execution_count": null,
      "outputs": []
    },
    {
      "cell_type": "code",
      "metadata": {
        "id": "Pkc86gLfLftT",
        "outputId": "98187c52-32b5-4d00-dc4b-3262633a52d7"
      },
      "source": [
        "df"
      ],
      "execution_count": null,
      "outputs": [
        {
          "output_type": "execute_result",
          "data": {
            "text/html": [
              "<div>\n",
              "<style scoped>\n",
              "    .dataframe tbody tr th:only-of-type {\n",
              "        vertical-align: middle;\n",
              "    }\n",
              "\n",
              "    .dataframe tbody tr th {\n",
              "        vertical-align: top;\n",
              "    }\n",
              "\n",
              "    .dataframe thead th {\n",
              "        text-align: right;\n",
              "    }\n",
              "</style>\n",
              "<table border=\"1\" class=\"dataframe\">\n",
              "  <thead>\n",
              "    <tr style=\"text-align: right;\">\n",
              "      <th></th>\n",
              "      <th>ds</th>\n",
              "      <th>mp2</th>\n",
              "      <th>ai</th>\n",
              "      <th>PFSD</th>\n",
              "      <th>TS</th>\n",
              "    </tr>\n",
              "  </thead>\n",
              "  <tbody>\n",
              "    <tr>\n",
              "      <th>aditya</th>\n",
              "      <td>21</td>\n",
              "      <td>22</td>\n",
              "      <td>23</td>\n",
              "      <td>24</td>\n",
              "      <td>90</td>\n",
              "    </tr>\n",
              "    <tr>\n",
              "      <th>aayush</th>\n",
              "      <td>22</td>\n",
              "      <td>25</td>\n",
              "      <td>24</td>\n",
              "      <td>26</td>\n",
              "      <td>97</td>\n",
              "    </tr>\n",
              "    <tr>\n",
              "      <th>dheer</th>\n",
              "      <td>12</td>\n",
              "      <td>22</td>\n",
              "      <td>45</td>\n",
              "      <td>65</td>\n",
              "      <td>144</td>\n",
              "    </tr>\n",
              "    <tr>\n",
              "      <th>rithik</th>\n",
              "      <td>78</td>\n",
              "      <td>88</td>\n",
              "      <td>98</td>\n",
              "      <td>75</td>\n",
              "      <td>339</td>\n",
              "    </tr>\n",
              "    <tr>\n",
              "      <th>navneet</th>\n",
              "      <td>45</td>\n",
              "      <td>46</td>\n",
              "      <td>78</td>\n",
              "      <td>95</td>\n",
              "      <td>264</td>\n",
              "    </tr>\n",
              "  </tbody>\n",
              "</table>\n",
              "</div>"
            ],
            "text/plain": [
              "         ds  mp2  ai  PFSD   TS\n",
              "aditya   21   22  23    24   90\n",
              "aayush   22   25  24    26   97\n",
              "dheer    12   22  45    65  144\n",
              "rithik   78   88  98    75  339\n",
              "navneet  45   46  78    95  264"
            ]
          },
          "metadata": {
            "tags": []
          },
          "execution_count": 15
        }
      ]
    },
    {
      "cell_type": "code",
      "metadata": {
        "id": "mTB1MJLhLftU"
      },
      "source": [
        " z=df.iloc[1: , :2]"
      ],
      "execution_count": null,
      "outputs": []
    },
    {
      "cell_type": "code",
      "metadata": {
        "id": "ZyG95kKILftV",
        "outputId": "d0beb942-852b-4b17-d1d9-fc10831d6a7a"
      },
      "source": [
        "z"
      ],
      "execution_count": null,
      "outputs": [
        {
          "output_type": "execute_result",
          "data": {
            "text/html": [
              "<div>\n",
              "<style scoped>\n",
              "    .dataframe tbody tr th:only-of-type {\n",
              "        vertical-align: middle;\n",
              "    }\n",
              "\n",
              "    .dataframe tbody tr th {\n",
              "        vertical-align: top;\n",
              "    }\n",
              "\n",
              "    .dataframe thead th {\n",
              "        text-align: right;\n",
              "    }\n",
              "</style>\n",
              "<table border=\"1\" class=\"dataframe\">\n",
              "  <thead>\n",
              "    <tr style=\"text-align: right;\">\n",
              "      <th></th>\n",
              "      <th>ds</th>\n",
              "      <th>mp2</th>\n",
              "    </tr>\n",
              "  </thead>\n",
              "  <tbody>\n",
              "    <tr>\n",
              "      <th>aayush</th>\n",
              "      <td>22</td>\n",
              "      <td>25</td>\n",
              "    </tr>\n",
              "    <tr>\n",
              "      <th>dheer</th>\n",
              "      <td>12</td>\n",
              "      <td>22</td>\n",
              "    </tr>\n",
              "    <tr>\n",
              "      <th>rithik</th>\n",
              "      <td>78</td>\n",
              "      <td>88</td>\n",
              "    </tr>\n",
              "    <tr>\n",
              "      <th>navneet</th>\n",
              "      <td>45</td>\n",
              "      <td>46</td>\n",
              "    </tr>\n",
              "  </tbody>\n",
              "</table>\n",
              "</div>"
            ],
            "text/plain": [
              "         ds  mp2\n",
              "aayush   22   25\n",
              "dheer    12   22\n",
              "rithik   78   88\n",
              "navneet  45   46"
            ]
          },
          "metadata": {
            "tags": []
          },
          "execution_count": 34
        }
      ]
    },
    {
      "cell_type": "code",
      "metadata": {
        "id": "xlmBOyDsLftW"
      },
      "source": [
        "df['SPI'] = df['ds'] + df['ai']"
      ],
      "execution_count": null,
      "outputs": []
    },
    {
      "cell_type": "code",
      "metadata": {
        "id": "NXTHv2ZpLftX",
        "outputId": "ac57dd64-d96f-48da-fc0c-9343bf1d72fc"
      },
      "source": [
        "df"
      ],
      "execution_count": null,
      "outputs": [
        {
          "output_type": "execute_result",
          "data": {
            "text/html": [
              "<div>\n",
              "<style scoped>\n",
              "    .dataframe tbody tr th:only-of-type {\n",
              "        vertical-align: middle;\n",
              "    }\n",
              "\n",
              "    .dataframe tbody tr th {\n",
              "        vertical-align: top;\n",
              "    }\n",
              "\n",
              "    .dataframe thead th {\n",
              "        text-align: right;\n",
              "    }\n",
              "</style>\n",
              "<table border=\"1\" class=\"dataframe\">\n",
              "  <thead>\n",
              "    <tr style=\"text-align: right;\">\n",
              "      <th></th>\n",
              "      <th>ds</th>\n",
              "      <th>mp2</th>\n",
              "      <th>ai</th>\n",
              "      <th>PFSD</th>\n",
              "      <th>TS</th>\n",
              "      <th>SPI</th>\n",
              "    </tr>\n",
              "  </thead>\n",
              "  <tbody>\n",
              "    <tr>\n",
              "      <th>aditya</th>\n",
              "      <td>21</td>\n",
              "      <td>22</td>\n",
              "      <td>23</td>\n",
              "      <td>24</td>\n",
              "      <td>90</td>\n",
              "      <td>44</td>\n",
              "    </tr>\n",
              "    <tr>\n",
              "      <th>aayush</th>\n",
              "      <td>22</td>\n",
              "      <td>25</td>\n",
              "      <td>24</td>\n",
              "      <td>26</td>\n",
              "      <td>97</td>\n",
              "      <td>46</td>\n",
              "    </tr>\n",
              "    <tr>\n",
              "      <th>dheer</th>\n",
              "      <td>12</td>\n",
              "      <td>22</td>\n",
              "      <td>45</td>\n",
              "      <td>65</td>\n",
              "      <td>144</td>\n",
              "      <td>57</td>\n",
              "    </tr>\n",
              "    <tr>\n",
              "      <th>rithik</th>\n",
              "      <td>78</td>\n",
              "      <td>88</td>\n",
              "      <td>98</td>\n",
              "      <td>75</td>\n",
              "      <td>339</td>\n",
              "      <td>176</td>\n",
              "    </tr>\n",
              "    <tr>\n",
              "      <th>navneet</th>\n",
              "      <td>45</td>\n",
              "      <td>46</td>\n",
              "      <td>78</td>\n",
              "      <td>95</td>\n",
              "      <td>264</td>\n",
              "      <td>123</td>\n",
              "    </tr>\n",
              "  </tbody>\n",
              "</table>\n",
              "</div>"
            ],
            "text/plain": [
              "         ds  mp2  ai  PFSD   TS  SPI\n",
              "aditya   21   22  23    24   90   44\n",
              "aayush   22   25  24    26   97   46\n",
              "dheer    12   22  45    65  144   57\n",
              "rithik   78   88  98    75  339  176\n",
              "navneet  45   46  78    95  264  123"
            ]
          },
          "metadata": {
            "tags": []
          },
          "execution_count": 23
        }
      ]
    },
    {
      "cell_type": "code",
      "metadata": {
        "id": "07Hzz4WdLftY",
        "outputId": "82353117-89c0-419c-d131-c4757b431557"
      },
      "source": [
        "df[df['ds'] > 20]"
      ],
      "execution_count": null,
      "outputs": [
        {
          "output_type": "execute_result",
          "data": {
            "text/html": [
              "<div>\n",
              "<style scoped>\n",
              "    .dataframe tbody tr th:only-of-type {\n",
              "        vertical-align: middle;\n",
              "    }\n",
              "\n",
              "    .dataframe tbody tr th {\n",
              "        vertical-align: top;\n",
              "    }\n",
              "\n",
              "    .dataframe thead th {\n",
              "        text-align: right;\n",
              "    }\n",
              "</style>\n",
              "<table border=\"1\" class=\"dataframe\">\n",
              "  <thead>\n",
              "    <tr style=\"text-align: right;\">\n",
              "      <th></th>\n",
              "      <th>ds</th>\n",
              "      <th>mp2</th>\n",
              "      <th>ai</th>\n",
              "      <th>PFSD</th>\n",
              "      <th>TS</th>\n",
              "      <th>SPI</th>\n",
              "    </tr>\n",
              "  </thead>\n",
              "  <tbody>\n",
              "    <tr>\n",
              "      <th>aditya</th>\n",
              "      <td>21</td>\n",
              "      <td>22</td>\n",
              "      <td>23</td>\n",
              "      <td>24</td>\n",
              "      <td>90</td>\n",
              "      <td>44</td>\n",
              "    </tr>\n",
              "    <tr>\n",
              "      <th>aayush</th>\n",
              "      <td>22</td>\n",
              "      <td>25</td>\n",
              "      <td>24</td>\n",
              "      <td>26</td>\n",
              "      <td>97</td>\n",
              "      <td>46</td>\n",
              "    </tr>\n",
              "    <tr>\n",
              "      <th>rithik</th>\n",
              "      <td>78</td>\n",
              "      <td>88</td>\n",
              "      <td>98</td>\n",
              "      <td>75</td>\n",
              "      <td>339</td>\n",
              "      <td>176</td>\n",
              "    </tr>\n",
              "    <tr>\n",
              "      <th>navneet</th>\n",
              "      <td>45</td>\n",
              "      <td>46</td>\n",
              "      <td>78</td>\n",
              "      <td>95</td>\n",
              "      <td>264</td>\n",
              "      <td>123</td>\n",
              "    </tr>\n",
              "  </tbody>\n",
              "</table>\n",
              "</div>"
            ],
            "text/plain": [
              "         ds  mp2  ai  PFSD   TS  SPI\n",
              "aditya   21   22  23    24   90   44\n",
              "aayush   22   25  24    26   97   46\n",
              "rithik   78   88  98    75  339  176\n",
              "navneet  45   46  78    95  264  123"
            ]
          },
          "metadata": {
            "tags": []
          },
          "execution_count": 25
        }
      ]
    },
    {
      "cell_type": "code",
      "metadata": {
        "id": "71KBonT2LftZ",
        "outputId": "fc15a62c-d7da-4012-f0ba-5315f986e969"
      },
      "source": [
        "sum(df['SPI'])"
      ],
      "execution_count": null,
      "outputs": [
        {
          "output_type": "execute_result",
          "data": {
            "text/plain": [
              "446"
            ]
          },
          "metadata": {
            "tags": []
          },
          "execution_count": 28
        }
      ]
    },
    {
      "cell_type": "code",
      "metadata": {
        "id": "p_UUyrNGLfta"
      },
      "source": [
        "csx = pd.read_csv('sample.csv')"
      ],
      "execution_count": null,
      "outputs": []
    },
    {
      "cell_type": "code",
      "metadata": {
        "id": "xq3ZrXgxLftb",
        "outputId": "622fa33f-2214-417c-e506-2752c40dde84"
      },
      "source": [
        "print(csx)"
      ],
      "execution_count": null,
      "outputs": [
        {
          "output_type": "stream",
          "text": [
            "       Year Industry_aggregation_NZSIOC Industry_code_NZSIOC  \\\n",
            "0      2019                     Level 1                99999   \n",
            "1      2019                     Level 1                99999   \n",
            "2      2019                     Level 1                99999   \n",
            "3      2019                     Level 1                99999   \n",
            "4      2019                     Level 1                99999   \n",
            "...     ...                         ...                  ...   \n",
            "32440  2013                     Level 3                 ZZ11   \n",
            "32441  2013                     Level 3                 ZZ11   \n",
            "32442  2013                     Level 3                 ZZ11   \n",
            "32443  2013                     Level 3                 ZZ11   \n",
            "32444  2013                     Level 3                 ZZ11   \n",
            "\n",
            "             Industry_name_NZSIOC               Units Variable_code  \\\n",
            "0                  All industries  Dollars (millions)           H01   \n",
            "1                  All industries  Dollars (millions)           H04   \n",
            "2                  All industries  Dollars (millions)           H05   \n",
            "3                  All industries  Dollars (millions)           H07   \n",
            "4                  All industries  Dollars (millions)           H08   \n",
            "...                           ...                 ...           ...   \n",
            "32440  Food product manufacturing          Percentage           H37   \n",
            "32441  Food product manufacturing          Percentage           H38   \n",
            "32442  Food product manufacturing          Percentage           H39   \n",
            "32443  Food product manufacturing          Percentage           H40   \n",
            "32444  Food product manufacturing          Percentage           H41   \n",
            "\n",
            "                                         Variable_name      Variable_category  \\\n",
            "0                                         Total income  Financial performance   \n",
            "1      Sales, government funding, grants and subsidies  Financial performance   \n",
            "2                    Interest, dividends and donations  Financial performance   \n",
            "3                                 Non-operating income  Financial performance   \n",
            "4                                    Total expenditure  Financial performance   \n",
            "...                                                ...                    ...   \n",
            "32440                                      Quick ratio       Financial ratios   \n",
            "32441              Margin on sales of goods for resale       Financial ratios   \n",
            "32442                                 Return on equity       Financial ratios   \n",
            "32443                           Return on total assets       Financial ratios   \n",
            "32444                            Liabilities structure       Financial ratios   \n",
            "\n",
            "          Value                             Industry_code_ANZSIC06  \n",
            "0      7,28,239  ANZSIC06 divisions A-S (excluding classes K633...  \n",
            "1      6,43,809  ANZSIC06 divisions A-S (excluding classes K633...  \n",
            "2        62,924  ANZSIC06 divisions A-S (excluding classes K633...  \n",
            "3        21,505  ANZSIC06 divisions A-S (excluding classes K633...  \n",
            "4      6,34,710  ANZSIC06 divisions A-S (excluding classes K633...  \n",
            "...         ...                                                ...  \n",
            "32440        52  ANZSIC06 groups C111, C112, C113, C114, C115, ...  \n",
            "32441        40  ANZSIC06 groups C111, C112, C113, C114, C115, ...  \n",
            "32442        12  ANZSIC06 groups C111, C112, C113, C114, C115, ...  \n",
            "32443         5  ANZSIC06 groups C111, C112, C113, C114, C115, ...  \n",
            "32444        46  ANZSIC06 groups C111, C112, C113, C114, C115, ...  \n",
            "\n",
            "[32445 rows x 10 columns]\n"
          ],
          "name": "stdout"
        }
      ]
    },
    {
      "cell_type": "code",
      "metadata": {
        "id": "y7OHiK-2Lftc"
      },
      "source": [
        ""
      ],
      "execution_count": null,
      "outputs": []
    }
  ]
}